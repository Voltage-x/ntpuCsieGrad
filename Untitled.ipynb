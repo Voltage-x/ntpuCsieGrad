{
 "cells": [
  {
   "cell_type": "code",
   "execution_count": 13,
   "metadata": {},
   "outputs": [
    {
     "name": "stdout",
     "output_type": "stream",
     "text": [
      "[['大一國文：經典閱讀與詮釋(上2)', '大一國文：經典閱讀與詮釋(下2)'], ['<img src=\"../../img/stopped.gif\">'], ['體育：羽球4(105上)', '體育：羽球4(107上)', '體育：羽球4(106下)', '體育：羽球4(106下)']]\n"
     ]
    }
   ],
   "source": [
    "from selenium import webdriver\n",
    "from selenium.webdriver.common.keys import Keys\n",
    "from selenium.webdriver.chrome.options import Options\n",
    "from time import sleep\n",
    "import json,re\n",
    "\n",
    "scoreArray = []\n",
    "selectiveCourse = []\n",
    "languageCourse = []\n",
    "\n",
    "#open Chrome browser\n",
    "chrome_options = Options()\n",
    "chrome_options.add_argument('--headless')\n",
    "chrome_options.add_argument('--disable-gpu')\n",
    "driver = webdriver.Chrome(options=chrome_options)\n",
    "\n",
    "#visit website\n",
    "driver.get('https://ohs01.ntpu.edu.tw/student_new.htm')\n",
    "\n",
    "#get account bar\n",
    "accountBar = driver.find_element_by_name('stud_num')\n",
    "passwordBar = driver.find_element_by_name('passwd')\n",
    "with open('account.json') as json_file:\n",
    "    data = json.load(json_file)\n",
    "    accountBar.send_keys(data['number'])\n",
    "    passwordBar.send_keys(data['password'])\n",
    "    \n",
    "#submit\n",
    "driver.find_element_by_id('loginBtn1').click()\n",
    "\n",
    "sleep(1)\n",
    "\n",
    "#go to page\n",
    "driver.get('https://ohs01.ntpu.edu.tw/pls/univer/query_all_course.judge?func=9')\n",
    "\n",
    "arrayOfNum = driver.find_elements_by_class_name('ss1')\n",
    "arrayOfSelectiveCourses = driver.find_elements_by_xpath(\"//td[@style='padding-right: 10px']\")\n",
    "\n",
    "for grade in arrayOfNum:\n",
    "    scoreArray.append(re.findall(r'\\d+',grade.get_attribute('innerHTML')))\n",
    "    \n",
    "for course in range(0,len(arrayOfSelectiveCourses),3):\n",
    "    selectiveCourse.append(arrayOfSelectiveCourses[course].get_attribute('innerHTML'))\n",
    "    \n",
    "arrayOfLanguage = driver.find_elements_by_xpath(\"//table[@style='border-collapse: collapse'][5]/tbody/tr/td\")\n",
    "\n",
    "for course in range(0,len(arrayOfLanguage)):\n",
    "    languageCourse.append(re.findall(r'[^\\n\\u3000]+',arrayOfLanguage[course].get_attribute('innerHTML')))\n",
    "\n",
    "print(languageCourse)"
   ]
  }
 ],
 "metadata": {
  "kernelspec": {
   "display_name": "Python 3",
   "language": "python",
   "name": "python3"
  },
  "language_info": {
   "codemirror_mode": {
    "name": "ipython",
    "version": 3
   },
   "file_extension": ".py",
   "mimetype": "text/x-python",
   "name": "python",
   "nbconvert_exporter": "python",
   "pygments_lexer": "ipython3",
   "version": "3.6.4"
  }
 },
 "nbformat": 4,
 "nbformat_minor": 2
}
